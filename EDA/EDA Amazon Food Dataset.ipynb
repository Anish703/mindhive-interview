{
 "cells": [
  {
   "cell_type": "code",
   "execution_count": null,
   "id": "e8d5b6e3",
   "metadata": {
    "scrolled": false
   },
   "outputs": [],
   "source": [
    "import os\n",
    "import json\n",
    "import pandas as pd\n",
    "import numpy as np\n",
    "import matplotlib.pyplot as plt\n",
    "import re\n",
    "import html\n",
    "from bs4 import BeautifulSoup\n",
    "from wordcloud import WordCloud\n",
    "from collections import Counter"
   ]
  },
  {
   "cell_type": "code",
   "execution_count": null,
   "id": "9d69b4c1",
   "metadata": {},
   "outputs": [],
   "source": [
    "#Preprocess the json file and create a new dataframe \n",
    "meta_data = []\n",
    "for rec in open('metadata_Grocery_and_Gourmet_Food.json'):\n",
    "    meta_data.append(json.loads(rec.strip()))\n",
    "meta_df = pd.DataFrame.from_dict(meta_data)"
   ]
  },
  {
   "cell_type": "code",
   "execution_count": null,
   "id": "4b55f457",
   "metadata": {
    "scrolled": true
   },
   "outputs": [],
   "source": [
    "#Visualize a snippet of the data\n",
    "meta_df.head()"
   ]
  },
  {
   "cell_type": "code",
   "execution_count": null,
   "id": "6913f886",
   "metadata": {},
   "outputs": [],
   "source": [
    "# Since we are interested in only specific attributes, we shall extract those\n",
    "df = meta_df[['asin', 'title', 'description', 'main_cat', 'price']].copy()\n",
    "\n",
    "\n",
    "# Display the first few rows of the new DataFrame\n",
    "df.head()"
   ]
  },
  {
   "cell_type": "code",
   "execution_count": null,
   "id": "bcafe99d",
   "metadata": {},
   "outputs": [],
   "source": [
    "#Remove square brackets from description\n",
    "df['description'] = df['description'].apply(lambda x: x[0] if isinstance(x, list) and len(x) > 0 else x)\n"
   ]
  },
  {
   "cell_type": "code",
   "execution_count": null,
   "id": "d7316127",
   "metadata": {
    "scrolled": false
   },
   "outputs": [],
   "source": [
    "#Visualize a snippet of the data\n",
    "df.head()"
   ]
  },
  {
   "cell_type": "code",
   "execution_count": null,
   "id": "8ff62d9e",
   "metadata": {},
   "outputs": [],
   "source": [
    "#drop non unique asin (Amazon unique identification format)\n",
    "sample_df = sample_df.drop_duplicates(subset='asin', keep=False)"
   ]
  },
  {
   "cell_type": "code",
   "execution_count": null,
   "id": "b995db0a",
   "metadata": {},
   "outputs": [],
   "source": [
    "len(df)"
   ]
  },
  {
   "cell_type": "code",
   "execution_count": null,
   "id": "4dcbed76",
   "metadata": {},
   "outputs": [],
   "source": [
    "#Working with a sample of the dataset to reduce computational overhead\n",
    "sample_df = df.sample(frac=0.1) \n",
    "len(sample_df)"
   ]
  },
  {
   "cell_type": "code",
   "execution_count": null,
   "id": "6a848e93",
   "metadata": {},
   "outputs": [],
   "source": [
    "#Converting html characters\n",
    "sample_df['description'] = sample_df['description'].apply(lambda x: html.unescape(x))\n",
    "sample_df['title'] = sample_df['title'].apply(lambda x: html.unescape(x))\n"
   ]
  },
  {
   "cell_type": "code",
   "execution_count": null,
   "id": "5098a333",
   "metadata": {},
   "outputs": [],
   "source": [
    "#Removing Html tags\n",
    "sample_df['description'] = sample_df['description'].apply(lambda x: BeautifulSoup(str(x), 'html.parser').get_text() if pd.notnull(x) else '')\n",
    "sample_df['title'] = sample_df['title'].apply(lambda x: BeautifulSoup(str(x), 'html.parser').get_text() if pd.notnull(x) else '')"
   ]
  },
  {
   "cell_type": "code",
   "execution_count": null,
   "id": "c7abdae7",
   "metadata": {},
   "outputs": [],
   "source": [
    "#Removing special characters\n",
    "sample_df['title'] = sample_df['title'].apply(lambda x: re.sub(r'[^a-zA-Z0-9\\s]', '', str(x)) if pd.notnull(x) else '')\n",
    "sample_df['description'] = sample_df['description'].apply(lambda x: re.sub(r'[^a-zA-Z0-9\\s]', '', str(x)) if pd.notnull(x) else '')"
   ]
  },
  {
   "cell_type": "code",
   "execution_count": null,
   "id": "2296569e",
   "metadata": {},
   "outputs": [],
   "source": [
    "#Dropping records with missing data, as data imputation here would introduce bias\n",
    "df.replace('', np.nan, inplace=True)\n",
    "df.dropna(inplace=True)\n",
    "len(df) "
   ]
  },
  {
   "cell_type": "code",
   "execution_count": null,
   "id": "948dd57f",
   "metadata": {
    "scrolled": true
   },
   "outputs": [],
   "source": [
    "#Wordcloud \n",
    "text = ' '.join(sample_df['description'].astype(str))\n",
    "wordcloud = WordCloud(width=800, height=400, background_color='white').generate(text)\n",
    "plt.figure(figsize=(10, 5))\n",
    "plt.imshow(wordcloud, interpolation='bilinear')\n",
    "plt.axis('off')\n",
    "plt.title('Word Cloud for Descriptions')\n",
    "plt.show()"
   ]
  },
  {
   "cell_type": "code",
   "execution_count": null,
   "id": "937eb9bf",
   "metadata": {},
   "outputs": [],
   "source": [
    "#Most common words in tittle\n",
    "# Convert both strings and lists in 'description' column to strings\n",
    "sample_df['title'] = sample_df['title'].apply(lambda x: ' '.join(x) if isinstance(x, list) else str(x))\n",
    "\n",
    "# Remove non-alphabetic characters\n",
    "sample_df['title'] = sample_df['title'].apply(lambda x: re.sub(r'[^a-zA-Z\\s]', '', x))\n",
    "\n",
    "# Tokenize words and flatten the list\n",
    "word_frequency = Counter([word for sublist in sample_df['title'].str.split() for word in sublist])\n",
    "\n",
    "# Print the top 10 most common words\n",
    "common_words = word_frequency.most_common(10)\n",
    "print('Top 10 Most Common Words:')\n",
    "for word, count in common_words:\n",
    "    print(f'{word}: {count}')"
   ]
  },
  {
   "cell_type": "code",
   "execution_count": null,
   "id": "098680b1",
   "metadata": {},
   "outputs": [],
   "source": [
    "#Most coomon words in description\n",
    "# Convert both strings and lists in 'description' column to strings\n",
    "sample_df['description'] = sample_df['description'].apply(lambda x: ' '.join(x) if isinstance(x, list) else str(x))\n",
    "\n",
    "# Remove non-alphabetic characters\n",
    "sample_df['description'] = sample_df['description'].apply(lambda x: re.sub(r'[^a-zA-Z\\s]', '', x))\n",
    "\n",
    "# Tokenize words and flatten the list\n",
    "word_frequency = Counter([word for sublist in sample_df['description'].str.split() for word in sublist])\n",
    "\n",
    "# Print the top 10 most common words\n",
    "common_words = word_frequency.most_common(10)\n",
    "print('Top 10 Most Common Words:')\n",
    "for word, count in common_words:\n",
    "    print(f'{word}: {count}')"
   ]
  },
  {
   "cell_type": "code",
   "execution_count": null,
   "id": "833fb1aa",
   "metadata": {
    "scrolled": true
   },
   "outputs": [],
   "source": [
    "sample_df.describe()"
   ]
  },
  {
   "cell_type": "code",
   "execution_count": null,
   "id": "c84e5ac9",
   "metadata": {},
   "outputs": [],
   "source": [
    "sample_df.info()"
   ]
  },
  {
   "cell_type": "code",
   "execution_count": null,
   "id": "0161b51b",
   "metadata": {},
   "outputs": [],
   "source": [
    "sample_df.to_csv(\"food.csv\")"
   ]
  }
 ],
 "metadata": {
  "kernelspec": {
   "display_name": "Python 3 (ipykernel)",
   "language": "python",
   "name": "python3"
  },
  "language_info": {
   "codemirror_mode": {
    "name": "ipython",
    "version": 3
   },
   "file_extension": ".py",
   "mimetype": "text/x-python",
   "name": "python",
   "nbconvert_exporter": "python",
   "pygments_lexer": "ipython3",
   "version": "3.8.10"
  }
 },
 "nbformat": 4,
 "nbformat_minor": 5
}
