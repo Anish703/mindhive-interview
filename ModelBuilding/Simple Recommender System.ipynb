{
 "cells": [
  {
   "cell_type": "code",
   "execution_count": 1,
   "id": "e865d409",
   "metadata": {},
   "outputs": [],
   "source": [
    "import pandas as pd\n",
    "from sklearn.feature_extraction.text import TfidfVectorizer\n",
    "from sklearn.metrics.pairwise import linear_kernel\n",
    "from nltk.tokenize import word_tokenize\n",
    "from nltk.corpus import stopwords\n",
    "import nltk\n",
    "import pickle\n"
   ]
  },
  {
   "cell_type": "code",
   "execution_count": 8,
   "id": "a1038f72",
   "metadata": {},
   "outputs": [
    {
     "name": "stderr",
     "output_type": "stream",
     "text": [
      "[nltk_data] Downloading package stopwords to\n",
      "[nltk_data]     C:\\Users\\Anish\\AppData\\Roaming\\nltk_data...\n",
      "[nltk_data]   Unzipping corpora\\stopwords.zip.\n",
      "[nltk_data] Downloading package punkt to\n",
      "[nltk_data]     C:\\Users\\Anish\\AppData\\Roaming\\nltk_data...\n",
      "[nltk_data]   Unzipping tokenizers\\punkt.zip.\n"
     ]
    },
    {
     "data": {
      "text/plain": [
       "True"
      ]
     },
     "execution_count": 8,
     "metadata": {},
     "output_type": "execute_result"
    }
   ],
   "source": [
    "nltk.download('stopwords')\n",
    "nltk.download('punkt')"
   ]
  },
  {
   "cell_type": "code",
   "execution_count": 9,
   "id": "c42600ac",
   "metadata": {},
   "outputs": [],
   "source": [
    "df = pd.read_csv('food.csv')"
   ]
  },
  {
   "cell_type": "code",
   "execution_count": 10,
   "id": "5586c08b",
   "metadata": {},
   "outputs": [
    {
     "data": {
      "text/html": [
       "<div>\n",
       "<style scoped>\n",
       "    .dataframe tbody tr th:only-of-type {\n",
       "        vertical-align: middle;\n",
       "    }\n",
       "\n",
       "    .dataframe tbody tr th {\n",
       "        vertical-align: top;\n",
       "    }\n",
       "\n",
       "    .dataframe thead th {\n",
       "        text-align: right;\n",
       "    }\n",
       "</style>\n",
       "<table border=\"1\" class=\"dataframe\">\n",
       "  <thead>\n",
       "    <tr style=\"text-align: right;\">\n",
       "      <th></th>\n",
       "      <th>asin</th>\n",
       "      <th>title</th>\n",
       "      <th>description</th>\n",
       "      <th>main_cat</th>\n",
       "      <th>price</th>\n",
       "    </tr>\n",
       "  </thead>\n",
       "  <tbody>\n",
       "    <tr>\n",
       "      <th>0</th>\n",
       "      <td>B008FZZHT6</td>\n",
       "      <td>Petit Guava Nectar with Vitamin C  L</td>\n",
       "      <td>Petit Guava Nectar with Vitamin C  L Petit Gua...</td>\n",
       "      <td>Grocery</td>\n",
       "      <td>$4.95</td>\n",
       "    </tr>\n",
       "    <tr>\n",
       "      <th>1</th>\n",
       "      <td>B00U6QO43M</td>\n",
       "      <td>VitamaltVitamalt Non Alcohol Malt Beer Taste B...</td>\n",
       "      <td>Enjoy the pleasant time of nonalcoholicanytime</td>\n",
       "      <td>Grocery</td>\n",
       "      <td>$26.87</td>\n",
       "    </tr>\n",
       "    <tr>\n",
       "      <th>2</th>\n",
       "      <td>B00182NNGC</td>\n",
       "      <td>igourmet Friesian Clove Nagelkaas  ounce</td>\n",
       "      <td>Clove cheese is a unique Dutch specialty thoug...</td>\n",
       "      <td>Grocery</td>\n",
       "      <td>$8.99</td>\n",
       "    </tr>\n",
       "    <tr>\n",
       "      <th>3</th>\n",
       "      <td>B002L24CJA</td>\n",
       "      <td>The Republic of Tea Ginger Peach Red Tea Bags</td>\n",
       "      <td>Red Tea Collection Caffeinefree rooibos is pai...</td>\n",
       "      <td>Grocery</td>\n",
       "      <td>$13.77</td>\n",
       "    </tr>\n",
       "    <tr>\n",
       "      <th>4</th>\n",
       "      <td>B0001M110K</td>\n",
       "      <td>Frontier Seasoning Blends Saltfree Italian Sea...</td>\n",
       "      <td>Seasoning blends Premium quality All natural F...</td>\n",
       "      <td>Grocery</td>\n",
       "      <td>$6.85</td>\n",
       "    </tr>\n",
       "  </tbody>\n",
       "</table>\n",
       "</div>"
      ],
      "text/plain": [
       "         asin                                              title  \\\n",
       "0  B008FZZHT6               Petit Guava Nectar with Vitamin C  L   \n",
       "1  B00U6QO43M  VitamaltVitamalt Non Alcohol Malt Beer Taste B...   \n",
       "2  B00182NNGC           igourmet Friesian Clove Nagelkaas  ounce   \n",
       "3  B002L24CJA     The Republic of Tea Ginger Peach Red Tea Bags    \n",
       "4  B0001M110K  Frontier Seasoning Blends Saltfree Italian Sea...   \n",
       "\n",
       "                                         description main_cat   price  \n",
       "0  Petit Guava Nectar with Vitamin C  L Petit Gua...  Grocery   $4.95  \n",
       "1     Enjoy the pleasant time of nonalcoholicanytime  Grocery  $26.87  \n",
       "2  Clove cheese is a unique Dutch specialty thoug...  Grocery   $8.99  \n",
       "3  Red Tea Collection Caffeinefree rooibos is pai...  Grocery  $13.77  \n",
       "4  Seasoning blends Premium quality All natural F...  Grocery   $6.85  "
      ]
     },
     "execution_count": 10,
     "metadata": {},
     "output_type": "execute_result"
    }
   ],
   "source": [
    "df.head()"
   ]
  },
  {
   "cell_type": "code",
   "execution_count": 11,
   "id": "463d7c8f",
   "metadata": {},
   "outputs": [],
   "source": [
    "# Tokenization function\n",
    "def tokenize(text):\n",
    "    tokens = word_tokenize(text)\n",
    "    tokens = [word.lower() for word in tokens if word.isalpha()]\n",
    "    stop_words = set(stopwords.words('english'))\n",
    "    tokens = [word for word in tokens if word not in stop_words]\n",
    "    return tokens"
   ]
  },
  {
   "cell_type": "code",
   "execution_count": 12,
   "id": "4331702c",
   "metadata": {},
   "outputs": [
    {
     "name": "stderr",
     "output_type": "stream",
     "text": [
      "C:\\Users\\Anish\\AppData\\Local\\Programs\\Python\\Python310\\lib\\site-packages\\sklearn\\feature_extraction\\text.py:525: UserWarning: The parameter 'token_pattern' will not be used since 'tokenizer' is not None'\n",
      "  warnings.warn(\n"
     ]
    },
    {
     "name": "stdout",
     "output_type": "stream",
     "text": [
      "                                              title  \\\n",
      "3799                         Sweet Ginger Peach Tea   \n",
      "10522  Stash Tea Green Ginger Peach Matcha Pack of    \n",
      "11245      The Republic of Tea Vanilla Almond Count   \n",
      "\n",
      "                                             description   price  \n",
      "3799                         Sweet Ginger Peach Tea  Bag  $10.49  \n",
      "10522  Ginger Peach with Matcha Tea  Bags by Stash Te...   $7.79  \n",
      "11245           The Republic of Tea Vanilla Almond Count  $21.96  \n"
     ]
    }
   ],
   "source": [
    "# TF-IDF Vectorizer\n",
    "tfidf_vectorizer = TfidfVectorizer(tokenizer=tokenize)\n",
    "tfidf_matrix = tfidf_vectorizer.fit_transform(df['description'])\n",
    "\n",
    "# Compute the cosine similarity matrix\n",
    "cosine_sim = linear_kernel(tfidf_matrix, tfidf_matrix)\n",
    "\n",
    "# Function to get top 3 similar products\n",
    "def get_top_similar_products(query, cosine_sim_matrix, df, top_n=3):\n",
    "    # Transform the query using the TF-IDF vectorizer\n",
    "    query_vector = tfidf_vectorizer.transform([query])\n",
    "\n",
    "    # Calculate the cosine similarity\n",
    "    cosine_similarities = linear_kernel(query_vector, tfidf_matrix).flatten()\n",
    "\n",
    "    # Get indices of top 3 similar products\n",
    "    top_indices = cosine_similarities.argsort()[:-top_n-1:-1]\n",
    "\n",
    "    # Return the top N similar products\n",
    "    return df.iloc[top_indices]\n",
    "\n",
    "# Testing predictions\n",
    "user_query = \"The Republic of Tea Ginger Peach Red Tea Bags\"\n",
    "top_similar_products = get_top_similar_products(user_query, cosine_sim, df)\n",
    "print(top_similar_products[['title', 'description', 'price']])"
   ]
  },
  {
   "cell_type": "code",
   "execution_count": 13,
   "id": "3e93cdc4",
   "metadata": {},
   "outputs": [],
   "source": [
    "#Saving the model\n",
    "with open('tfidf_vectorizer.pkl', 'wb') as file:\n",
    "    pickle.dump(tfidf_vectorizer, file)\n",
    "\n",
    "with open('tfidf_matrix.pkl', 'wb') as file:\n",
    "    pickle.dump(tfidf_matrix, file)\n",
    "\n",
    "with open('df.pkl', 'wb') as file:\n",
    "    pickle.dump(df, file)\n",
    "\n",
    "with open('cosine_sim.pkl', 'wb') as file:\n",
    "    pickle.dump(cosine_sim, file)"
   ]
  }
 ],
 "metadata": {
  "kernelspec": {
   "display_name": "Python 3 (ipykernel)",
   "language": "python",
   "name": "python3"
  },
  "language_info": {
   "codemirror_mode": {
    "name": "ipython",
    "version": 3
   },
   "file_extension": ".py",
   "mimetype": "text/x-python",
   "name": "python",
   "nbconvert_exporter": "python",
   "pygments_lexer": "ipython3",
   "version": "3.10.0"
  }
 },
 "nbformat": 4,
 "nbformat_minor": 5
}
